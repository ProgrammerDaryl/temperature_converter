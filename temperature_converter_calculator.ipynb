{
 "cells": [
  {
   "cell_type": "code",
   "execution_count": null,
   "metadata": {},
   "outputs": [],
   "source": [
    "# greet the user\n",
    "print(\"\\nGreetings, User!\\n\")\n",
    "# show the options\n",
    "print(\"1 = Celsius to Fahrenheit\\n\" + \"2 = Fahrenheit to Celsius\\n\")\n",
    "# ask the user which type of conversion: Celsius to Fahrenheit or Fahrenheit to Celsius\n",
    "conversion_type = float(input(\"Which type of conversion do you want to use? (1 or 2): \"))\n",
    "\n",
    "# for Celsius to Fahrenheit\n",
    "if conversion_type == 1:\n",
    "    print(\"You picked the conversion type: From Celsius to Fahrenheit!\")\n",
    "    # ask the user to enter a number to be converted\n",
    "    number_one = float(input(\"Enter the number you want to be converted here!: \"))\n",
    "    # application of formula\n",
    "    formula_one = number_one * 1.8\n",
    "    result_one = formula_one + 32\n",
    "    # print the corresponding value of degree Fahrenheit\n",
    "    print(\"The Answer is: \", result_one, \"°F\")\n",
    "\n",
    "# for Fahrenheit to Celsius\n",
    "elif conversion_type == 2:\n",
    "    print(\"\\nYou picked conversion type: From Fahrenheit to Celsius!\")\n",
    "    # ask the user to enter a number to be converted\n",
    "    number_two = float(input(\"Enter the number you want to be converted here!: \"))\n",
    "    # application of formula\n",
    "    formula_two = number_two - 32\n",
    "    result_two = formula_two * 0.555555555556\n",
    "    # print the corresponding value of degree Fahrenheit\n",
    "    print(\"The Answer is: \", result_two, \"°C\")\n",
    "\n",
    "# if invalid keyword\n",
    "else:\n",
    "    print(\"The keyword you entered is invalid. Please try again.\")\n"
   ]
  }
 ],
 "metadata": {
  "kernelspec": {
   "display_name": "Python 3",
   "language": "python",
   "name": "python3"
  },
  "language_info": {
   "name": "python",
   "version": "3.11.9"
  }
 },
 "nbformat": 4,
 "nbformat_minor": 2
}
