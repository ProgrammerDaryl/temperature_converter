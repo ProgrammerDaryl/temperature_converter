{
 "cells": [
  {
   "cell_type": "code",
   "execution_count": null,
   "metadata": {},
   "outputs": [],
   "source": [
    "# greet the user\n",
    "print(\"\\nGreetings, User!\\n\")\n",
    "# show the options\n",
    "print(\"1 = Celsius to Fahrenheit\\n\" + \"2 = Fahrenheit to Celsius\\n\")\n",
    "# ask the user which type of conversion: Celsius to Fahrenheit or Fahrenheit to Celsius\n",
    "conversion_type = float(input(\"Which type of conversion do you want to use? (1 or 2): \"))\n",
    "\n",
    "# for Celsius to Fahrenheit\n",
    "\n",
    "\n"
   ]
  }
 ],
 "metadata": {
  "language_info": {
   "name": "python"
  }
 },
 "nbformat": 4,
 "nbformat_minor": 2
}
