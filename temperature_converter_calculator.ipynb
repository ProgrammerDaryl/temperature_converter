{
 "cells": [
  {
   "cell_type": "code",
   "execution_count": null,
   "metadata": {},
   "outputs": [],
   "source": [
    "# greet the user\n",
    "print(\"\\nGreetings, User!\\n\")\n",
    "# show the options\n",
    "print(\"1 = Celsius to Fahrenheit\\n\" + \"2 = Fahrenheit to Celsius\\n\")\n",
    "# ask the user which type of conversion: Celsius to Fahrenheit or Fahrenheit to Celsius\n",
    "conversion_type = float(input(\"Which type of conversion do you want to use? (1 or 2): \"))\n",
    "\n",
    "# for Celsius to Fahrenheit\n",
    "if conversion_type == 1:\n",
    "    print(\"You picked the conversion type: From Celsius to Fahrenheit!\")\n",
    "    # ask the user to enter a number to be converted\n",
    "    number_one = float(input(\"Enter the number you want to be converted here!: \"))\n",
    "    # application of formula\n",
    "    formula_one = number_one * 1.8\n",
    "    result_one = formula_one + 32\n",
    "    # print the corresponding value of degree Fahrenheit\n",
    "    print(result_one, \"degree Fahrenheit\")\n",
    "\n"
   ]
  }
 ],
 "metadata": {
  "language_info": {
   "name": "python"
  }
 },
 "nbformat": 4,
 "nbformat_minor": 2
}
